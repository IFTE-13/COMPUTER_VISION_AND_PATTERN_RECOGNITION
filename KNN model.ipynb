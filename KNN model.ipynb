{
 "cells": [
  {
   "attachments": {},
   "cell_type": "markdown",
   "id": "016edc64",
   "metadata": {},
   "source": [
    "MOHAMMED IFTEKHAR ||\n",
    "20-41980-1 ||\n",
    "Computer Vision and Pattern Recognization (Sec-B)"
   ]
  },
  {
   "cell_type": "code",
   "execution_count": 17,
   "id": "01ef4534",
   "metadata": {},
   "outputs": [],
   "source": [
    "import os\n",
    "import cv2\n",
    "import random\n",
    "import numpy as np\n",
    "from tqdm import tqdm\n",
    "import matplotlib.pyplot as plt"
   ]
  },
  {
   "attachments": {},
   "cell_type": "markdown",
   "id": "4bf04882",
   "metadata": {},
   "source": [
    "Loading CIFAR10 Dataset"
   ]
  },
  {
   "cell_type": "code",
   "execution_count": 18,
   "id": "6527a74d",
   "metadata": {},
   "outputs": [
    {
     "name": "stdout",
     "output_type": "stream",
     "text": [
      "['airplane', 'automobile', 'bird', 'cat', 'deer', 'dog', 'frog', 'horse', 'ship', 'truck']\n"
     ]
    }
   ],
   "source": [
    "TRAIN_DIR = \"C:/PROGRAMMING/CVPR/CIFAR10/train\"\n",
    "CATEGORIES = []\n",
    "for c in os.listdir(TRAIN_DIR):\n",
    "    CATEGORIES.append(c)\n",
    "print(CATEGORIES)"
   ]
  },
  {
   "cell_type": "code",
   "execution_count": 19,
   "id": "df6711eb",
   "metadata": {},
   "outputs": [
    {
     "name": "stderr",
     "output_type": "stream",
     "text": [
      "100%|██████████| 5000/5000 [00:00<00:00, 5645.35it/s]\n",
      "100%|██████████| 5000/5000 [00:00<00:00, 6045.32it/s]\n",
      "100%|██████████| 5000/5000 [00:00<00:00, 6151.18it/s]\n",
      "100%|██████████| 5000/5000 [00:00<00:00, 5883.30it/s]\n",
      "100%|██████████| 5000/5000 [00:00<00:00, 5014.66it/s]\n",
      "100%|██████████| 5000/5000 [00:00<00:00, 5794.74it/s]\n",
      "100%|██████████| 5000/5000 [00:00<00:00, 6066.47it/s]\n",
      "100%|██████████| 5000/5000 [00:00<00:00, 5499.79it/s]\n",
      "100%|██████████| 5000/5000 [00:00<00:00, 5389.98it/s]\n",
      "100%|██████████| 5000/5000 [00:00<00:00, 6046.52it/s]"
     ]
    },
    {
     "name": "stdout",
     "output_type": "stream",
     "text": [
      "50000\n"
     ]
    },
    {
     "name": "stderr",
     "output_type": "stream",
     "text": [
      "\n"
     ]
    }
   ],
   "source": [
    "TRAIN_DATA = []\n",
    "for c in CATEGORIES:\n",
    "    path = os.path.join(TRAIN_DIR,c)\n",
    "    class_num = CATEGORIES.index(c)\n",
    "    for img in tqdm(os.listdir(path)):\n",
    "        img_arr = cv2.imread(os.path.join(path,img))\n",
    "        TRAIN_DATA.append({'image': img_arr, 'class': class_num})\n",
    "print(len(TRAIN_DATA))"
   ]
  },
  {
   "attachments": {},
   "cell_type": "markdown",
   "id": "2374914d",
   "metadata": {},
   "source": [
    "Overview of random images from the dataset"
   ]
  },
  {
   "cell_type": "code",
   "execution_count": 20,
   "id": "476fe128",
   "metadata": {},
   "outputs": [
    {
     "ename": "KeyError",
     "evalue": "0",
     "output_type": "error",
     "traceback": [
      "\u001b[1;31m---------------------------------------------------------------------------\u001b[0m",
      "\u001b[1;31mKeyError\u001b[0m                                  Traceback (most recent call last)",
      "Cell \u001b[1;32mIn[20], line 6\u001b[0m\n\u001b[0;32m      4\u001b[0m \u001b[39mfor\u001b[39;00m i \u001b[39min\u001b[39;00m \u001b[39mrange\u001b[39m(\u001b[39m50\u001b[39m):\n\u001b[0;32m      5\u001b[0m     plt\u001b[39m.\u001b[39msubplot(\u001b[39m5\u001b[39m,\u001b[39m10\u001b[39m,i\u001b[39m+\u001b[39m\u001b[39m1\u001b[39m)\n\u001b[1;32m----> 6\u001b[0m     plt\u001b[39m.\u001b[39mimshow(TRAIN_DATA[i][\u001b[39m0\u001b[39;49m])\n\u001b[0;32m      7\u001b[0m     plt\u001b[39m.\u001b[39mxlabel(CATEGORIES[TRAIN_DATA[i][\u001b[39m1\u001b[39m]])\n\u001b[0;32m      8\u001b[0m     plt\u001b[39m.\u001b[39mxticks([])\n",
      "\u001b[1;31mKeyError\u001b[0m: 0"
     ]
    },
    {
     "data": {
      "image/png": "[encoded data removed]",
      "text/plain": [
       "<Figure size 2000x1000 with 1 Axes>"
      ]
     },
     "metadata": {},
     "output_type": "display_data"
    }
   ],
   "source": [
    "random.shuffle(TRAIN_DATA)\n",
    "plt.figure(figsize=(20,10))\n",
    "\n",
    "for i in range(50):\n",
    "    plt.subplot(5,10,i+1)\n",
    "    plt.imshow(TRAIN_DATA[i][0])\n",
    "    plt.xlabel(CATEGORIES[TRAIN_DATA[i][1]])\n",
    "    plt.xticks([])\n",
    "    plt.yticks([])\n",
    "    if i==50:\n",
    "        break\n",
    "plt.show()"
   ]
  },
  {
   "cell_type": "code",
   "execution_count": null,
   "id": "d64b8f06",
   "metadata": {},
   "outputs": [],
   "source": [
    "f0 = TRAIN_DATA[0:1000]\n",
    "f1 = TRAIN_DATA[1000:2000]\n",
    "f2 = TRAIN_DATA[2000:3000]\n",
    "f3 = TRAIN_DATA[3000:4000]\n",
    "f4 = TRAIN_DATA[4000:5000]"
   ]
  },
  {
   "attachments": {},
   "cell_type": "markdown",
   "id": "64fc7313",
   "metadata": {},
   "source": [
    "=> The k-nearest neighbors algorithm, also known as KNN or k-NN, is a non-parametric, supervised learning classifier, which uses proximity to make classifications or predictions about the grouping of an individual data point.\n",
    "\n",
    "=> K = number of neighbors\n",
    "=> X = features\n",
    "=> Y = targets\n",
    "=> a = prediction"
   ]
  },
  {
   "cell_type": "code",
   "execution_count": 22,
   "id": "d4ea3446",
   "metadata": {},
   "outputs": [],
   "source": [
    "class KNN:\n",
    "    k = None\n",
    "\n",
    "    def __init__(self, k):\n",
    "        self.k = k\n",
    "\n",
    "    def fit(self, X, y):\n",
    "        self.X = X\n",
    "        self.y = y\n",
    "    \n",
    "    def accuracy(self, y_actual, y_pred):\n",
    "        return np.sum(y_actual == y_pred) / len(y_actual)\n",
    "    \n",
    "    def predict(self, X_test, l_func = \"l2\"):\n",
    "        y_predtion = [] \n",
    "        i = 0\n",
    "        for x in tqdm(X_test):\n",
    "            distances = []\n",
    "            for i in range(len(self.X)):\n",
    "                if l_func == \"l2\":\n",
    "                    distance = np.sqrt(np.sum((x - self.X[i])**2))\n",
    "                    distances.append({\n",
    "                        'distance': distance,\n",
    "                        'class': self.y[i]\n",
    "                    })\n",
    "                elif l_func == \"l1\":\n",
    "                    distance = np.sum(np.abs(x - self.X[i]))\n",
    "                    distances.append({\n",
    "                        'distance': distance,\n",
    "                        'class': self.y[i]\n",
    "                    })\n",
    "            distances.sort(key=lambda x: x['distance'])\n",
    "            k_nearest = distances[:self.k]\n",
    "            k_nearest_classes = [x['class'] for x in k_nearest]\n",
    "            y_predtion.append(max(set(k_nearest_classes), key=k_nearest_classes.count))\n",
    "        return y_predtion"
   ]
  },
  {
   "cell_type": "code",
   "execution_count": 23,
   "id": "fc9fbefe",
   "metadata": {},
   "outputs": [
    {
     "name": "stderr",
     "output_type": "stream",
     "text": [
      "100%|██████████| 1000/1000 [01:20<00:00, 12.47it/s]\n",
      "100%|██████████| 1000/1000 [01:39<00:00, 10.05it/s]\n",
      "  5%|▌         | 1/19 [02:59<53:55, 179.76s/it]"
     ]
    },
    {
     "name": "stdout",
     "output_type": "stream",
     "text": [
      "for k = 1 l1 accuracy is 0.217 and l2 accuracy is 0.199\n"
     ]
    },
    {
     "name": "stderr",
     "output_type": "stream",
     "text": [
      "100%|██████████| 1000/1000 [01:34<00:00, 10.58it/s]\n",
      "100%|██████████| 1000/1000 [01:52<00:00,  8.88it/s]\n",
      " 11%|█         | 2/19 [06:26<55:29, 195.85s/it]"
     ]
    },
    {
     "name": "stdout",
     "output_type": "stream",
     "text": [
      "for k = 2 l1 accuracy is 0.212 and l2 accuracy is 0.181\n"
     ]
    },
    {
     "name": "stderr",
     "output_type": "stream",
     "text": [
      "100%|██████████| 1000/1000 [01:25<00:00, 11.66it/s]\n",
      "100%|██████████| 1000/1000 [01:53<00:00,  8.83it/s]\n",
      " 16%|█▌        | 3/19 [09:45<52:36, 197.27s/it]"
     ]
    },
    {
     "name": "stdout",
     "output_type": "stream",
     "text": [
      "for k = 3 l1 accuracy is 0.217 and l2 accuracy is 0.19\n"
     ]
    },
    {
     "name": "stderr",
     "output_type": "stream",
     "text": [
      "100%|██████████| 1000/1000 [01:35<00:00, 10.48it/s]\n",
      "100%|██████████| 1000/1000 [01:43<00:00,  9.64it/s]\n",
      " 21%|██        | 4/19 [13:05<49:30, 198.03s/it]"
     ]
    },
    {
     "name": "stdout",
     "output_type": "stream",
     "text": [
      "for k = 4 l1 accuracy is 0.222 and l2 accuracy is 0.182\n"
     ]
    },
    {
     "name": "stderr",
     "output_type": "stream",
     "text": [
      "100%|██████████| 1000/1000 [01:18<00:00, 12.73it/s]\n",
      "100%|██████████| 1000/1000 [01:53<00:00,  8.81it/s]\n",
      " 26%|██▋       | 5/19 [16:17<45:42, 195.87s/it]"
     ]
    },
    {
     "name": "stdout",
     "output_type": "stream",
     "text": [
      "for k = 5 l1 accuracy is 0.211 and l2 accuracy is 0.203\n"
     ]
    },
    {
     "name": "stderr",
     "output_type": "stream",
     "text": [
      "100%|██████████| 1000/1000 [01:31<00:00, 10.88it/s]\n",
      "100%|██████████| 1000/1000 [01:52<00:00,  8.86it/s]\n",
      " 32%|███▏      | 6/19 [19:41<43:05, 198.92s/it]"
     ]
    },
    {
     "name": "stdout",
     "output_type": "stream",
     "text": [
      "for k = 6 l1 accuracy is 0.221 and l2 accuracy is 0.21\n"
     ]
    },
    {
     "name": "stderr",
     "output_type": "stream",
     "text": [
      "100%|██████████| 1000/1000 [01:47<00:00,  9.34it/s]\n",
      "100%|██████████| 1000/1000 [01:53<00:00,  8.80it/s]\n",
      " 37%|███▋      | 7/19 [23:22<41:12, 206.06s/it]"
     ]
    },
    {
     "name": "stdout",
     "output_type": "stream",
     "text": [
      "for k = 7 l1 accuracy is 0.218 and l2 accuracy is 0.21\n"
     ]
    },
    {
     "name": "stderr",
     "output_type": "stream",
     "text": [
      "100%|██████████| 1000/1000 [01:46<00:00,  9.40it/s]\n",
      "100%|██████████| 1000/1000 [01:54<00:00,  8.75it/s]\n",
      " 42%|████▏     | 8/19 [27:03<38:37, 210.69s/it]"
     ]
    },
    {
     "name": "stdout",
     "output_type": "stream",
     "text": [
      "for k = 8 l1 accuracy is 0.216 and l2 accuracy is 0.206\n"
     ]
    },
    {
     "name": "stderr",
     "output_type": "stream",
     "text": [
      "100%|██████████| 1000/1000 [01:32<00:00, 10.86it/s]\n",
      "100%|██████████| 1000/1000 [01:56<00:00,  8.57it/s]\n",
      " 47%|████▋     | 9/19 [30:32<35:01, 210.12s/it]"
     ]
    },
    {
     "name": "stdout",
     "output_type": "stream",
     "text": [
      "for k = 9 l1 accuracy is 0.224 and l2 accuracy is 0.199\n"
     ]
    },
    {
     "name": "stderr",
     "output_type": "stream",
     "text": [
      "100%|██████████| 1000/1000 [01:32<00:00, 10.86it/s]\n",
      "100%|██████████| 1000/1000 [01:57<00:00,  8.48it/s]\n",
      " 53%|█████▎    | 10/19 [34:02<31:30, 210.07s/it]"
     ]
    },
    {
     "name": "stdout",
     "output_type": "stream",
     "text": [
      "for k = 10 l1 accuracy is 0.224 and l2 accuracy is 0.206\n"
     ]
    },
    {
     "name": "stderr",
     "output_type": "stream",
     "text": [
      "100%|██████████| 1000/1000 [01:50<00:00,  9.05it/s]\n",
      "100%|██████████| 1000/1000 [02:22<00:00,  7.04it/s]\n",
      " 58%|█████▊    | 11/19 [38:14<29:44, 223.09s/it]"
     ]
    },
    {
     "name": "stdout",
     "output_type": "stream",
     "text": [
      "for k = 11 l1 accuracy is 0.21 and l2 accuracy is 0.186\n"
     ]
    },
    {
     "name": "stderr",
     "output_type": "stream",
     "text": [
      "100%|██████████| 1000/1000 [01:29<00:00, 11.17it/s]\n",
      "100%|██████████| 1000/1000 [02:04<00:00,  8.01it/s]\n",
      " 63%|██████▎   | 12/19 [41:49<25:43, 220.46s/it]"
     ]
    },
    {
     "name": "stdout",
     "output_type": "stream",
     "text": [
      "for k = 12 l1 accuracy is 0.215 and l2 accuracy is 0.201\n"
     ]
    },
    {
     "name": "stderr",
     "output_type": "stream",
     "text": [
      "100%|██████████| 1000/1000 [01:45<00:00,  9.51it/s]\n",
      "100%|██████████| 1000/1000 [01:58<00:00,  8.44it/s]\n",
      " 68%|██████▊   | 13/19 [45:32<22:08, 221.43s/it]"
     ]
    },
    {
     "name": "stdout",
     "output_type": "stream",
     "text": [
      "for k = 13 l1 accuracy is 0.211 and l2 accuracy is 0.193\n"
     ]
    },
    {
     "name": "stderr",
     "output_type": "stream",
     "text": [
      "100%|██████████| 1000/1000 [01:32<00:00, 10.76it/s]\n",
      "100%|██████████| 1000/1000 [01:56<00:00,  8.59it/s]\n",
      " 74%|███████▎  | 14/19 [49:02<18:09, 217.80s/it]"
     ]
    },
    {
     "name": "stdout",
     "output_type": "stream",
     "text": [
      "for k = 14 l1 accuracy is 0.216 and l2 accuracy is 0.199\n"
     ]
    },
    {
     "name": "stderr",
     "output_type": "stream",
     "text": [
      "100%|██████████| 1000/1000 [01:27<00:00, 11.37it/s]\n",
      "100%|██████████| 1000/1000 [01:57<00:00,  8.52it/s]\n",
      " 79%|███████▉  | 15/19 [52:27<14:16, 214.06s/it]"
     ]
    },
    {
     "name": "stdout",
     "output_type": "stream",
     "text": [
      "for k = 15 l1 accuracy is 0.213 and l2 accuracy is 0.204\n"
     ]
    },
    {
     "name": "stderr",
     "output_type": "stream",
     "text": [
      "100%|██████████| 1000/1000 [01:28<00:00, 11.29it/s]\n",
      "100%|██████████| 1000/1000 [01:50<00:00,  9.06it/s]\n",
      " 84%|████████▍ | 16/19 [55:46<10:28, 209.51s/it]"
     ]
    },
    {
     "name": "stdout",
     "output_type": "stream",
     "text": [
      "for k = 16 l1 accuracy is 0.214 and l2 accuracy is 0.206\n"
     ]
    },
    {
     "name": "stderr",
     "output_type": "stream",
     "text": [
      "100%|██████████| 1000/1000 [01:33<00:00, 10.64it/s]\n",
      "100%|██████████| 1000/1000 [01:51<00:00,  8.98it/s]\n",
      " 89%|████████▉ | 17/19 [59:11<06:56, 208.26s/it]"
     ]
    },
    {
     "name": "stdout",
     "output_type": "stream",
     "text": [
      "for k = 17 l1 accuracy is 0.21 and l2 accuracy is 0.197\n"
     ]
    },
    {
     "name": "stderr",
     "output_type": "stream",
     "text": [
      "100%|██████████| 1000/1000 [01:37<00:00, 10.28it/s]\n",
      "100%|██████████| 1000/1000 [01:55<00:00,  8.68it/s]\n",
      " 95%|█████████▍| 18/19 [1:02:44<03:29, 209.53s/it]"
     ]
    },
    {
     "name": "stdout",
     "output_type": "stream",
     "text": [
      "for k = 18 l1 accuracy is 0.213 and l2 accuracy is 0.194\n"
     ]
    },
    {
     "name": "stderr",
     "output_type": "stream",
     "text": [
      " 47%|████▋     | 471/1000 [00:38<00:43, 12.20it/s]\n",
      " 95%|█████████▍| 18/19 [1:03:23<03:31, 211.28s/it]\n"
     ]
    },
    {
     "ename": "KeyboardInterrupt",
     "evalue": "",
     "output_type": "error",
     "traceback": [
      "\u001b[1;31m---------------------------------------------------------------------------\u001b[0m",
      "\u001b[1;31mKeyboardInterrupt\u001b[0m                         Traceback (most recent call last)",
      "Cell \u001b[1;32mIn[23], line 23\u001b[0m\n\u001b[0;32m     19\u001b[0m X_train , X_test, y_train, y_test \u001b[39m=\u001b[39m split(X, y, test_size\u001b[39m=\u001b[39m\u001b[39m0.2\u001b[39m)\n\u001b[0;32m     21\u001b[0m knn\u001b[39m.\u001b[39mfit(X_train, y_train)\n\u001b[1;32m---> 23\u001b[0m y_pred_l1 \u001b[39m=\u001b[39m knn\u001b[39m.\u001b[39;49mpredict(X_test, l_func\u001b[39m=\u001b[39;49m\u001b[39m\"\u001b[39;49m\u001b[39ml1\u001b[39;49m\u001b[39m\"\u001b[39;49m)\n\u001b[0;32m     24\u001b[0m y_pred_l2 \u001b[39m=\u001b[39m knn\u001b[39m.\u001b[39mpredict(X_test, l_func\u001b[39m=\u001b[39m\u001b[39m\"\u001b[39m\u001b[39ml2\u001b[39m\u001b[39m\"\u001b[39m)\n\u001b[0;32m     27\u001b[0m l1_accuracies[k] \u001b[39m=\u001b[39m knn\u001b[39m.\u001b[39maccuracy(y_test, y_pred_l1)\n",
      "Cell \u001b[1;32mIn[22], line 27\u001b[0m, in \u001b[0;36mKNN.predict\u001b[1;34m(self, X_test, l_func)\u001b[0m\n\u001b[0;32m     22\u001b[0m         distances\u001b[39m.\u001b[39mappend({\n\u001b[0;32m     23\u001b[0m             \u001b[39m'\u001b[39m\u001b[39mdistance\u001b[39m\u001b[39m'\u001b[39m: distance,\n\u001b[0;32m     24\u001b[0m             \u001b[39m'\u001b[39m\u001b[39mclass\u001b[39m\u001b[39m'\u001b[39m: \u001b[39mself\u001b[39m\u001b[39m.\u001b[39my[i]\n\u001b[0;32m     25\u001b[0m         })\n\u001b[0;32m     26\u001b[0m     \u001b[39melif\u001b[39;00m l_func \u001b[39m==\u001b[39m \u001b[39m\"\u001b[39m\u001b[39ml1\u001b[39m\u001b[39m\"\u001b[39m:\n\u001b[1;32m---> 27\u001b[0m         distance \u001b[39m=\u001b[39m np\u001b[39m.\u001b[39;49msum(np\u001b[39m.\u001b[39;49mabs(x \u001b[39m-\u001b[39;49m \u001b[39mself\u001b[39;49m\u001b[39m.\u001b[39;49mX[i]))\n\u001b[0;32m     28\u001b[0m         distances\u001b[39m.\u001b[39mappend({\n\u001b[0;32m     29\u001b[0m             \u001b[39m'\u001b[39m\u001b[39mdistance\u001b[39m\u001b[39m'\u001b[39m: distance,\n\u001b[0;32m     30\u001b[0m             \u001b[39m'\u001b[39m\u001b[39mclass\u001b[39m\u001b[39m'\u001b[39m: \u001b[39mself\u001b[39m\u001b[39m.\u001b[39my[i]\n\u001b[0;32m     31\u001b[0m         })\n\u001b[0;32m     32\u001b[0m distances\u001b[39m.\u001b[39msort(key\u001b[39m=\u001b[39m\u001b[39mlambda\u001b[39;00m x: x[\u001b[39m'\u001b[39m\u001b[39mdistance\u001b[39m\u001b[39m'\u001b[39m])\n",
      "File \u001b[1;32m<__array_function__ internals>:180\u001b[0m, in \u001b[0;36msum\u001b[1;34m(*args, **kwargs)\u001b[0m\n",
      "File \u001b[1;32mc:\\Users\\iftep\\AppData\\Local\\Programs\\Python\\Python311\\Lib\\site-packages\\numpy\\core\\fromnumeric.py:2298\u001b[0m, in \u001b[0;36msum\u001b[1;34m(a, axis, dtype, out, keepdims, initial, where)\u001b[0m\n\u001b[0;32m   2295\u001b[0m         \u001b[39mreturn\u001b[39;00m out\n\u001b[0;32m   2296\u001b[0m     \u001b[39mreturn\u001b[39;00m res\n\u001b[1;32m-> 2298\u001b[0m \u001b[39mreturn\u001b[39;00m _wrapreduction(a, np\u001b[39m.\u001b[39;49madd, \u001b[39m'\u001b[39;49m\u001b[39msum\u001b[39;49m\u001b[39m'\u001b[39;49m, axis, dtype, out, keepdims\u001b[39m=\u001b[39;49mkeepdims,\n\u001b[0;32m   2299\u001b[0m                       initial\u001b[39m=\u001b[39;49minitial, where\u001b[39m=\u001b[39;49mwhere)\n",
      "File \u001b[1;32mc:\\Users\\iftep\\AppData\\Local\\Programs\\Python\\Python311\\Lib\\site-packages\\numpy\\core\\fromnumeric.py:86\u001b[0m, in \u001b[0;36m_wrapreduction\u001b[1;34m(obj, ufunc, method, axis, dtype, out, **kwargs)\u001b[0m\n\u001b[0;32m     83\u001b[0m         \u001b[39melse\u001b[39;00m:\n\u001b[0;32m     84\u001b[0m             \u001b[39mreturn\u001b[39;00m reduction(axis\u001b[39m=\u001b[39maxis, out\u001b[39m=\u001b[39mout, \u001b[39m*\u001b[39m\u001b[39m*\u001b[39mpasskwargs)\n\u001b[1;32m---> 86\u001b[0m \u001b[39mreturn\u001b[39;00m ufunc\u001b[39m.\u001b[39;49mreduce(obj, axis, dtype, out, \u001b[39m*\u001b[39;49m\u001b[39m*\u001b[39;49mpasskwargs)\n",
      "\u001b[1;31mKeyboardInterrupt\u001b[0m: "
     ]
    }
   ],
   "source": [
    "def split(X, y, test_size=0.2):\n",
    "    X_train = X[:int(len(X)*(1-test_size))]\n",
    "    X_test = X[int(len(X)*(1-test_size)):]\n",
    "    y_train = y[:int(len(y)*(1-test_size))]\n",
    "    y_test = y[int(len(y)*(1-test_size)):]\n",
    "    return X_train, X_test, y_train, y_test\n",
    "\n",
    "X = np.array([i['image'] for i in TRAIN_DATA[:5000]])\n",
    "y = np.array([i['class'] for i in TRAIN_DATA[:5000]])\n",
    "\n",
    "l1_accuracies = {}\n",
    "l2_accuracies = {}\n",
    "\n",
    "k_neighbors = np.arange(1, 20)\n",
    "\n",
    "for k in tqdm(k_neighbors):\n",
    "    knn = KNN(k)\n",
    "    \n",
    "    X_train , X_test, y_train, y_test = split(X, y, test_size=0.2)\n",
    "\n",
    "    knn.fit(X_train, y_train)\n",
    "\n",
    "    y_pred_l1 = knn.predict(X_test, l_func=\"l1\")\n",
    "    y_pred_l2 = knn.predict(X_test, l_func=\"l2\")\n",
    "\n",
    "   \n",
    "    l1_accuracies[k] = knn.accuracy(y_test, y_pred_l1)\n",
    "    l2_accuracies[k] = knn.accuracy(y_test, y_pred_l2)\n",
    "\n",
    "    print(f\"for k = {k} l1 accuracy is {l1_accuracies[k]} and l2 accuracy is {l2_accuracies[k]}\")\n"
   ]
  },
  {
   "cell_type": "code",
   "execution_count": null,
   "id": "267fed15",
   "metadata": {},
   "outputs": [],
   "source": [
    "plt.figure(figsize=(20,10))\n",
    "plt.title(\"KNN Accuracy\")\n",
    "plt.xlabel(\"K\")\n",
    "plt.ylabel(\"Accuracy\")\n",
    "plt.plot(k_neighbors, list(l1_accuracies.values()), label=\"L1 Distance\", color=\"red\")\n",
    "plt.plot(k_neighbors, list(l2_accuracies.values()), label=\"L2 Distance\", color=\"blue\")\n",
    "plt.xticks(k_neighbors)\n",
    "plt.legend([\n",
    "    \"L1 Distance\",\n",
    "    \"L2 Distance\"\n",
    "], loc=\"lower left\", fontsize=12)\n",
    "plt.show()"
   ]
  },
  {
   "cell_type": "code",
   "execution_count": null,
   "id": "a800361a",
   "metadata": {},
   "outputs": [],
   "source": [
    "def best_accuracy(accuracies):\n",
    "    best_k = max(accuracies, key=accuracies.get)\n",
    "    best_accuracy = accuracies[best_k]\n",
    "    return best_k, best_accuracy\n",
    "\n",
    "best_k_l1, best_accuracy_l1 = best_accuracy(l1_accuracies)\n",
    "best_k_l2, best_accuracy_l2 = best_accuracy(l2_accuracies)\n",
    "\n",
    "print(f\"Best K for L1 Distance is {best_k_l1} with accuracy {best_accuracy_l1}\")"
   ]
  }
 ],
 "metadata": {
  "kernelspec": {
   "display_name": "Python 3",
   "language": "python",
   "name": "python3"
  },
  "language_info": {
   "codemirror_mode": {
    "name": "ipython",
    "version": 3
   },
   "file_extension": ".py",
   "mimetype": "text/x-python",
   "name": "python",
   "nbconvert_exporter": "python",
   "pygments_lexer": "ipython3",
   "version": "3.11.1"
  },
  "vscode": {
   "interpreter": {
    "hash": "00d8cdde48a7c025e1ee529d06ad345aa5de1472b6bf0a9e2164d436985263e5"
   }
  }
 },
 "nbformat": 4,
 "nbformat_minor": 5
}
